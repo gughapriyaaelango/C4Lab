{
 "cells": [
  {
   "cell_type": "code",
   "execution_count": 1,
   "metadata": {},
   "outputs": [],
   "source": [
    "import pandas as pd"
   ]
  },
  {
   "cell_type": "code",
   "execution_count": 2,
   "metadata": {},
   "outputs": [
    {
     "name": "stdout",
     "output_type": "stream",
     "text": [
      "Read 10491 raw text documents\n"
     ]
    }
   ],
   "source": [
    "raw_documents = []\n",
    "snippets = []\n",
    "data = pd.read_csv('7545332.csv')\n",
    "for text in data.tweet.values:\n",
    "    #print (text)\n",
    "    raw_documents.append( text )\n",
    "    snippets.append( text[0:min(len(text),100)] )\n",
    "print(\"Read %d raw text documents\" % len(raw_documents))"
   ]
  },
  {
   "cell_type": "code",
   "execution_count": 3,
   "metadata": {},
   "outputs": [
    {
     "name": "stdout",
     "output_type": "stream",
     "text": [
      "Stopword list has 353 entries\n"
     ]
    }
   ],
   "source": [
    "custom_stop_words = []\n",
    "with open( \"stopwords.txt\", \"r\" ) as fin:\n",
    "    for line in fin.readlines():\n",
    "        custom_stop_words.append( line.strip() )\n",
    "# note that we need to make it hashable\n",
    "print(\"Stopword list has %d entries\" % len(custom_stop_words) )"
   ]
  },
  {
   "cell_type": "code",
   "execution_count": 4,
   "metadata": {},
   "outputs": [
    {
     "name": "stderr",
     "output_type": "stream",
     "text": [
      "/srv/conda/envs/notebook/lib/python3.7/site-packages/sklearn/feature_extraction/image.py:167: DeprecationWarning: `np.int` is a deprecated alias for the builtin `int`. To silence this warning, use `int` by itself. Doing this will not modify any behavior and is safe. When replacing `np.int`, you may wish to use e.g. `np.int64` or `np.int32` to specify the precision. If you wish to review your current use, check the release note link for additional information.\n",
      "Deprecated in NumPy 1.20; for more details and guidance: https://numpy.org/devdocs/release/1.20.0-notes.html#deprecations\n",
      "  dtype=np.int):\n"
     ]
    },
    {
     "name": "stdout",
     "output_type": "stream",
     "text": [
      "Created 10491 X 781 document-term matrix\n"
     ]
    }
   ],
   "source": [
    "from sklearn.feature_extraction.text import CountVectorizer\n",
    "# use a custom stopwords list, set the minimum term-document frequency to 20\n",
    "vectorizer = CountVectorizer(stop_words = custom_stop_words, min_df = 20)\n",
    "A = vectorizer.fit_transform(raw_documents)\n",
    "print( \"Created %d X %d document-term matrix\" % (A.shape[0], A.shape[1]) )"
   ]
  },
  {
   "cell_type": "code",
   "execution_count": 5,
   "metadata": {},
   "outputs": [
    {
     "name": "stdout",
     "output_type": "stream",
     "text": [
      "Vocabulary has 781 distinct terms\n"
     ]
    }
   ],
   "source": [
    "terms = vectorizer.get_feature_names()\n",
    "print(\"Vocabulary has %d distinct terms\" % len(terms))"
   ]
  },
  {
   "cell_type": "code",
   "execution_count": 6,
   "metadata": {},
   "outputs": [
    {
     "data": {
      "text/plain": [
       "['articles-raw.pkl']"
      ]
     },
     "execution_count": 6,
     "metadata": {},
     "output_type": "execute_result"
    }
   ],
   "source": [
    "\n",
    "import joblib\n",
    "joblib.dump((A,terms,snippets), \"articles-raw.pkl\")"
   ]
  },
  {
   "cell_type": "code",
   "execution_count": 7,
   "metadata": {},
   "outputs": [],
   "source": [
    "import re\n",
    "class TokenGenerator:\n",
    "    def __init__( self, documents, stopwords ):\n",
    "        self.documents = documents\n",
    "        self.stopwords = stopwords\n",
    "        self.tokenizer = re.compile( r\"(?u)\\b\\w\\w+\\b\" )\n",
    "\n",
    "    def __iter__( self ):\n",
    "        print(\"Building Word2Vec model ...\")\n",
    "        for doc in self.documents:\n",
    "            tokens = []\n",
    "            for tok in self.tokenizer.findall( doc ):\n",
    "                if tok in self.stopwords:\n",
    "                    tokens.append( \"<stopword>\" )\n",
    "                elif len(tok) >= 2:\n",
    "                    tokens.append( tok )\n",
    "            yield tokens"
   ]
  },
  {
   "cell_type": "code",
   "execution_count": 8,
   "metadata": {},
   "outputs": [
    {
     "name": "stderr",
     "output_type": "stream",
     "text": [
      "/srv/conda/envs/notebook/lib/python3.7/site-packages/gensim/similarities/__init__.py:15: UserWarning: The gensim.similarities.levenshtein submodule is disabled, because the optional Levenshtein package <https://pypi.org/project/python-Levenshtein/> is unavailable. Install Levenhstein (e.g. `pip install python-Levenshtein`) to suppress this warning.\n",
      "  warnings.warn(msg)\n"
     ]
    },
    {
     "name": "stdout",
     "output_type": "stream",
     "text": [
      "Building Word2Vec model ...\n",
      "Building Word2Vec model ...\n",
      "Building Word2Vec model ...\n",
      "Building Word2Vec model ...\n",
      "Building Word2Vec model ...\n",
      "Building Word2Vec model ...\n"
     ]
    }
   ],
   "source": [
    "import gensim\n",
    "docgen = TokenGenerator( raw_documents, custom_stop_words )\n",
    "# the model has 500 dimensions, the minimum document-term frequency is 20\n",
    "w2v_model = gensim.models.Word2Vec(docgen, vector_size=500, min_count=20, sg=1)"
   ]
  },
  {
   "cell_type": "code",
   "execution_count": 9,
   "metadata": {},
   "outputs": [
    {
     "name": "stdout",
     "output_type": "stream",
     "text": [
      "Model has 881 terms\n"
     ]
    }
   ],
   "source": [
    "print( \"Model has %d terms\" % len(w2v_model.wv.key_to_index) )"
   ]
  },
  {
   "cell_type": "code",
   "execution_count": 10,
   "metadata": {},
   "outputs": [],
   "source": [
    "w2v_model.save(\"w2v-model.bin\")"
   ]
  },
  {
   "cell_type": "code",
   "execution_count": 11,
   "metadata": {},
   "outputs": [],
   "source": [
    "kmin, kmax = 1, 40"
   ]
  },
  {
   "cell_type": "code",
   "execution_count": 12,
   "metadata": {},
   "outputs": [
    {
     "name": "stderr",
     "output_type": "stream",
     "text": [
      "/srv/conda/envs/notebook/lib/python3.7/site-packages/sklearn/linear_model/least_angle.py:30: DeprecationWarning: `np.float` is a deprecated alias for the builtin `float`. To silence this warning, use `float` by itself. Doing this will not modify any behavior and is safe. If you specifically wanted the numpy scalar type, use `np.float64` here.\n",
      "Deprecated in NumPy 1.20; for more details and guidance: https://numpy.org/devdocs/release/1.20.0-notes.html#deprecations\n",
      "  method='lar', copy_X=True, eps=np.finfo(np.float).eps,\n",
      "/srv/conda/envs/notebook/lib/python3.7/site-packages/sklearn/linear_model/least_angle.py:167: DeprecationWarning: `np.float` is a deprecated alias for the builtin `float`. To silence this warning, use `float` by itself. Doing this will not modify any behavior and is safe. If you specifically wanted the numpy scalar type, use `np.float64` here.\n",
      "Deprecated in NumPy 1.20; for more details and guidance: https://numpy.org/devdocs/release/1.20.0-notes.html#deprecations\n",
      "  method='lar', copy_X=True, eps=np.finfo(np.float).eps,\n",
      "/srv/conda/envs/notebook/lib/python3.7/site-packages/sklearn/linear_model/least_angle.py:284: DeprecationWarning: `np.float` is a deprecated alias for the builtin `float`. To silence this warning, use `float` by itself. Doing this will not modify any behavior and is safe. If you specifically wanted the numpy scalar type, use `np.float64` here.\n",
      "Deprecated in NumPy 1.20; for more details and guidance: https://numpy.org/devdocs/release/1.20.0-notes.html#deprecations\n",
      "  eps=np.finfo(np.float).eps, copy_Gram=True, verbose=0,\n",
      "/srv/conda/envs/notebook/lib/python3.7/site-packages/sklearn/linear_model/least_angle.py:862: DeprecationWarning: `np.float` is a deprecated alias for the builtin `float`. To silence this warning, use `float` by itself. Doing this will not modify any behavior and is safe. If you specifically wanted the numpy scalar type, use `np.float64` here.\n",
      "Deprecated in NumPy 1.20; for more details and guidance: https://numpy.org/devdocs/release/1.20.0-notes.html#deprecations\n",
      "  eps=np.finfo(np.float).eps, copy_X=True, fit_path=True,\n",
      "/srv/conda/envs/notebook/lib/python3.7/site-packages/sklearn/linear_model/least_angle.py:1101: DeprecationWarning: `np.float` is a deprecated alias for the builtin `float`. To silence this warning, use `float` by itself. Doing this will not modify any behavior and is safe. If you specifically wanted the numpy scalar type, use `np.float64` here.\n",
      "Deprecated in NumPy 1.20; for more details and guidance: https://numpy.org/devdocs/release/1.20.0-notes.html#deprecations\n",
      "  eps=np.finfo(np.float).eps, copy_X=True, fit_path=True,\n",
      "/srv/conda/envs/notebook/lib/python3.7/site-packages/sklearn/linear_model/least_angle.py:1127: DeprecationWarning: `np.float` is a deprecated alias for the builtin `float`. To silence this warning, use `float` by itself. Doing this will not modify any behavior and is safe. If you specifically wanted the numpy scalar type, use `np.float64` here.\n",
      "Deprecated in NumPy 1.20; for more details and guidance: https://numpy.org/devdocs/release/1.20.0-notes.html#deprecations\n",
      "  eps=np.finfo(np.float).eps, positive=False):\n",
      "/srv/conda/envs/notebook/lib/python3.7/site-packages/sklearn/linear_model/least_angle.py:1362: DeprecationWarning: `np.float` is a deprecated alias for the builtin `float`. To silence this warning, use `float` by itself. Doing this will not modify any behavior and is safe. If you specifically wanted the numpy scalar type, use `np.float64` here.\n",
      "Deprecated in NumPy 1.20; for more details and guidance: https://numpy.org/devdocs/release/1.20.0-notes.html#deprecations\n",
      "  max_n_alphas=1000, n_jobs=None, eps=np.finfo(np.float).eps,\n",
      "/srv/conda/envs/notebook/lib/python3.7/site-packages/sklearn/linear_model/least_angle.py:1602: DeprecationWarning: `np.float` is a deprecated alias for the builtin `float`. To silence this warning, use `float` by itself. Doing this will not modify any behavior and is safe. If you specifically wanted the numpy scalar type, use `np.float64` here.\n",
      "Deprecated in NumPy 1.20; for more details and guidance: https://numpy.org/devdocs/release/1.20.0-notes.html#deprecations\n",
      "  max_n_alphas=1000, n_jobs=None, eps=np.finfo(np.float).eps,\n",
      "/srv/conda/envs/notebook/lib/python3.7/site-packages/sklearn/linear_model/least_angle.py:1738: DeprecationWarning: `np.float` is a deprecated alias for the builtin `float`. To silence this warning, use `float` by itself. Doing this will not modify any behavior and is safe. If you specifically wanted the numpy scalar type, use `np.float64` here.\n",
      "Deprecated in NumPy 1.20; for more details and guidance: https://numpy.org/devdocs/release/1.20.0-notes.html#deprecations\n",
      "  eps=np.finfo(np.float).eps, copy_X=True, positive=False):\n",
      "/srv/conda/envs/notebook/lib/python3.7/site-packages/sklearn/decomposition/online_lda.py:29: DeprecationWarning: `np.float` is a deprecated alias for the builtin `float`. To silence this warning, use `float` by itself. Doing this will not modify any behavior and is safe. If you specifically wanted the numpy scalar type, use `np.float64` here.\n",
      "Deprecated in NumPy 1.20; for more details and guidance: https://numpy.org/devdocs/release/1.20.0-notes.html#deprecations\n",
      "  EPS = np.finfo(np.float).eps\n"
     ]
    },
    {
     "name": "stdout",
     "output_type": "stream",
     "text": [
      "Applying NMF for k=1 ...\n",
      "Applying NMF for k=2 ...\n",
      "Applying NMF for k=3 ...\n",
      "Applying NMF for k=4 ...\n",
      "Applying NMF for k=5 ...\n",
      "Applying NMF for k=6 ...\n",
      "Applying NMF for k=7 ...\n",
      "Applying NMF for k=8 ...\n",
      "Applying NMF for k=9 ...\n",
      "Applying NMF for k=10 ...\n",
      "Applying NMF for k=11 ...\n",
      "Applying NMF for k=12 ...\n",
      "Applying NMF for k=13 ...\n",
      "Applying NMF for k=14 ...\n",
      "Applying NMF for k=15 ...\n",
      "Applying NMF for k=16 ...\n",
      "Applying NMF for k=17 ...\n",
      "Applying NMF for k=18 ...\n",
      "Applying NMF for k=19 ...\n",
      "Applying NMF for k=20 ...\n",
      "Applying NMF for k=21 ...\n",
      "Applying NMF for k=22 ...\n",
      "Applying NMF for k=23 ...\n",
      "Applying NMF for k=24 ...\n",
      "Applying NMF for k=25 ...\n",
      "Applying NMF for k=26 ...\n",
      "Applying NMF for k=27 ...\n",
      "Applying NMF for k=28 ...\n",
      "Applying NMF for k=29 ...\n",
      "Applying NMF for k=30 ...\n",
      "Applying NMF for k=31 ...\n",
      "Applying NMF for k=32 ...\n",
      "Applying NMF for k=33 ...\n",
      "Applying NMF for k=34 ...\n",
      "Applying NMF for k=35 ...\n",
      "Applying NMF for k=36 ...\n",
      "Applying NMF for k=37 ...\n",
      "Applying NMF for k=38 ...\n",
      "Applying NMF for k=39 ...\n",
      "Applying NMF for k=40 ...\n"
     ]
    }
   ],
   "source": [
    "from sklearn import decomposition\n",
    "topic_models = []\n",
    "# try each value of k\n",
    "for k in range(kmin,kmax+1):\n",
    "    print(\"Applying NMF for k=%d ...\" % k )\n",
    "    # run NMF\n",
    "    model = decomposition.NMF( init=\"nndsvd\", n_components=k ) \n",
    "    W = model.fit_transform( A )\n",
    "    H = model.components_    \n",
    "    # store for later\n",
    "    topic_models.append( (k,W,H) )"
   ]
  },
  {
   "cell_type": "code",
   "execution_count": 15,
   "metadata": {},
   "outputs": [
    {
     "name": "stdout",
     "output_type": "stream",
     "text": [
      "Read 10491 raw text documents\n"
     ]
    }
   ],
   "source": [
    "raw_documents = []\n",
    "data = pd.read_csv('7545332.csv')\n",
    "for text in data.tweet.values:\n",
    "    raw_documents.append( text.lower()  )\n",
    "print(\"Read %d raw text documents\" % len(raw_documents))"
   ]
  },
  {
   "cell_type": "code",
   "execution_count": 18,
   "metadata": {},
   "outputs": [
    {
     "name": "stdout",
     "output_type": "stream",
     "text": [
      "Stopword list has 353 entries\n"
     ]
    }
   ],
   "source": [
    "\n",
    "custom_stop_words = []\n",
    "with open( \"stopwords.txt\", \"r\" ) as fin:\n",
    "    for line in fin.readlines():\n",
    "        custom_stop_words.append( line.strip().lower() )\n",
    "# note that we need to make it hashable\n",
    "print(\"Stopword list has %d entries\" % len(custom_stop_words) )"
   ]
  },
  {
   "cell_type": "code",
   "execution_count": 19,
   "metadata": {},
   "outputs": [],
   "source": [
    "\n",
    "import re\n",
    "class TokenGenerator:\n",
    "    def __init__( self, documents, stopwords ):\n",
    "        self.documents = documents\n",
    "        self.stopwords = stopwords\n",
    "        self.tokenizer = re.compile( r\"(?u)\\b\\w\\w+\\b\" )\n",
    "\n",
    "    def __iter__( self ):\n",
    "        print(\"Building Word2Vec model ...\")\n",
    "        for doc in self.documents:\n",
    "            tokens = []\n",
    "            for tok in self.tokenizer.findall( doc ):\n",
    "                if tok in self.stopwords:\n",
    "                    tokens.append( \"<stopword>\" )\n",
    "                elif len(tok) >= 2:\n",
    "                    tokens.append( tok )\n",
    "            yield tokens"
   ]
  },
  {
   "cell_type": "code",
   "execution_count": 20,
   "metadata": {},
   "outputs": [
    {
     "name": "stdout",
     "output_type": "stream",
     "text": [
      "Building Word2Vec model ...\n",
      "Building Word2Vec model ...\n",
      "Building Word2Vec model ...\n",
      "Building Word2Vec model ...\n",
      "Building Word2Vec model ...\n",
      "Building Word2Vec model ...\n"
     ]
    }
   ],
   "source": [
    "import gensim\n",
    "docgen = TokenGenerator( raw_documents, custom_stop_words )\n",
    "# the model has 500 dimensions, the minimum document-term frequency is 20\n",
    "w2v_model = gensim.models.Word2Vec(docgen, vector_size=500, min_count=20, sg=1)"
   ]
  },
  {
   "cell_type": "code",
   "execution_count": 21,
   "metadata": {},
   "outputs": [
    {
     "name": "stdout",
     "output_type": "stream",
     "text": [
      "Model has 801 terms\n"
     ]
    }
   ],
   "source": [
    "print( \"Model has %d terms\" % len(w2v_model.wv.key_to_index) )"
   ]
  },
  {
   "cell_type": "code",
   "execution_count": 22,
   "metadata": {},
   "outputs": [],
   "source": [
    "w2v_model.save(\"w2v-model.bin\")"
   ]
  },
  {
   "cell_type": "code",
   "execution_count": null,
   "metadata": {},
   "outputs": [],
   "source": []
  },
  {
   "cell_type": "code",
   "execution_count": 23,
   "metadata": {},
   "outputs": [],
   "source": [
    "def calculate_coherence( w2v_model, term_rankings ):\n",
    "    overall_coherence = 0.0\n",
    "    for topic_index in range(len(term_rankings)):\n",
    "        # check each pair of terms\n",
    "        pair_scores = []\n",
    "        for pair in combinations( term_rankings[topic_index], 2 ):\n",
    "            pair_scores.append( w2v_model.wv.similarity(pair[0], pair[1]) )\n",
    "        # get the mean for all pairs in this topic\n",
    "        topic_score = sum(pair_scores) / len(pair_scores)\n",
    "        overall_coherence += topic_score\n",
    "    # get the mean score across all topics\n",
    "    return overall_coherence / len(term_rankings)"
   ]
  },
  {
   "cell_type": "code",
   "execution_count": 24,
   "metadata": {},
   "outputs": [],
   "source": [
    "import numpy as np\n",
    "def get_descriptor( all_terms, H, topic_index, top ):\n",
    "    # reverse sort the values to sort the indices\n",
    "    top_indices = np.argsort( H[topic_index,:] )[::-1]\n",
    "    # now get the terms corresponding to the top-ranked indices\n",
    "    top_terms = []\n",
    "    for term_index in top_indices[0:top]:\n",
    "        top_terms.append( all_terms[term_index] )\n",
    "    return top_terms"
   ]
  },
  {
   "cell_type": "code",
   "execution_count": 25,
   "metadata": {},
   "outputs": [
    {
     "name": "stdout",
     "output_type": "stream",
     "text": [
      "K=01: Coherence=0.6251\n",
      "K=02: Coherence=0.5553\n",
      "K=03: Coherence=0.5587\n",
      "K=04: Coherence=0.6298\n",
      "K=05: Coherence=0.6367\n",
      "K=06: Coherence=0.6464\n",
      "K=07: Coherence=0.6279\n",
      "K=08: Coherence=0.6524\n",
      "K=09: Coherence=0.6528\n",
      "K=10: Coherence=0.6419\n",
      "K=11: Coherence=0.6778\n",
      "K=12: Coherence=0.6806\n",
      "K=13: Coherence=0.6983\n",
      "K=14: Coherence=0.7084\n",
      "K=15: Coherence=0.7133\n",
      "K=16: Coherence=0.7112\n",
      "K=17: Coherence=0.7204\n",
      "K=18: Coherence=0.7243\n",
      "K=19: Coherence=0.7236\n",
      "K=20: Coherence=0.7299\n",
      "K=21: Coherence=0.7293\n",
      "K=22: Coherence=0.7318\n",
      "K=23: Coherence=0.7363\n",
      "K=24: Coherence=0.7376\n",
      "K=25: Coherence=0.7460\n",
      "K=26: Coherence=0.7407\n",
      "K=27: Coherence=0.7349\n",
      "K=28: Coherence=0.7428\n",
      "K=29: Coherence=0.7485\n",
      "K=30: Coherence=0.7405\n",
      "K=31: Coherence=0.7521\n",
      "K=32: Coherence=0.7517\n",
      "K=33: Coherence=0.7570\n",
      "K=34: Coherence=0.7555\n",
      "K=35: Coherence=0.7599\n",
      "K=36: Coherence=0.7566\n",
      "K=37: Coherence=0.7607\n",
      "K=38: Coherence=0.7631\n",
      "K=39: Coherence=0.7639\n",
      "K=40: Coherence=0.7679\n"
     ]
    }
   ],
   "source": [
    "from itertools import combinations\n",
    "k_values = []\n",
    "coherences = []\n",
    "for (k,W,H) in topic_models:\n",
    "    # Get all of the topic descriptors - the term_rankings, based on top 10 terms\n",
    "    term_rankings = []\n",
    "    for topic_index in range(k):\n",
    "        term_rankings.append( get_descriptor( terms, H, topic_index, 10 ) )\n",
    "    # Now calculate the coherence based on our Word2vec model\n",
    "    k_values.append( k )\n",
    "    coherences.append( calculate_coherence( w2v_model, term_rankings ) )\n",
    "    print(\"K=%02d: Coherence=%.4f\" % ( k, coherences[-1] ) )"
   ]
  },
  {
   "cell_type": "code",
   "execution_count": 26,
   "metadata": {},
   "outputs": [],
   "source": [
    "%matplotlib inline\n",
    "import matplotlib\n",
    "import matplotlib.pyplot as plt\n",
    "plt.style.use(\"ggplot\")\n",
    "matplotlib.rcParams.update({\"font.size\": 14})"
   ]
  },
  {
   "cell_type": "code",
   "execution_count": 27,
   "metadata": {},
   "outputs": [
    {
     "data": {
      "image/png": "[encoded data removed]",
      "text/plain": [
       "<Figure size 936x504 with 1 Axes>"
      ]
     },
     "metadata": {},
     "output_type": "display_data"
    }
   ],
   "source": [
    "\n",
    "fig = plt.figure(figsize=(13,7))\n",
    "# create the line plot\n",
    "ax = plt.plot( k_values, coherences )\n",
    "plt.xticks(k_values)\n",
    "plt.xlabel(\"Number of Topics\")\n",
    "plt.ylabel(\"Mean Coherence\")\n",
    "# add the points\n",
    "plt.scatter( k_values, coherences, s=120)\n",
    "# find and annotate the maximum point on the plot\n",
    "ymax = max(coherences)\n",
    "xpos = coherences.index(ymax)\n",
    "best_k = k_values[xpos]\n",
    "plt.annotate( \"k=%d\" % best_k, xy=(best_k, ymax), xytext=(best_k, ymax), textcoords=\"offset points\", fontsize=16)\n",
    "# show the plot\n",
    "plt.show()"
   ]
  },
  {
   "cell_type": "code",
   "execution_count": 28,
   "metadata": {},
   "outputs": [],
   "source": [
    "k = best_k\n",
    "# get the model that we generated earlier.\n",
    "W = topic_models[k-kmin][1]\n",
    "H = topic_models[k-kmin][2]"
   ]
  },
  {
   "cell_type": "code",
   "execution_count": 30,
   "metadata": {},
   "outputs": [
    {
     "name": "stdout",
     "output_type": "stream",
     "text": [
      "Topic 01: art, blog, painting, gallery, draw365, piece, faces, weekend, call, cool\n",
      "Topic 02: ennyman, territory, bit, ly, thots, newest, poem, update, email, comments\n",
      "Topic 03: duluthart, dai, opening, tweed, gallery, paintings, reception, images, friday, event\n",
      "Topic 04: published, medium, observations, wilde, poem, article, marketing, saturdaythoughts, version, history\n",
      "Topic 05: thanks, photo, making, available, unsplash, freely, post, poem, cool, medium\n",
      "Topic 06: dylan, bob, fest, song, album, songs, fans, themed, salute, days\n",
      "Topic 07: faces, picture, ennyman, blog, man, ink, draw365, site, red, titled\n",
      "Topic 08: posted, titled, called, painting, thots, newly, bit, piece, ly, part\n",
      "Topic 09: ed, newman, blogspot, face, faces, newest, painting, portrait, draw365, added\n",
      "Topic 10: blog, post, entry, wrote, posts, titled, asked, interesting, little, watching\n",
      "Topic 11: pubchat, write, stories, writer, think, work, something, get, way, know\n",
      "Topic 12: amwriting, mondaymotivation, history, stories, sundaymorning, tuesdaythoughts, thursdaythoughts, wrote, medium, fridayfeeling\n",
      "Topic 13: interview, author, part, painter, interesting, insights, founder, insightful, rich, writer\n",
      "Topic 14: today, ago, yrs, post, throwbackthursday, thots, relevant, theme, painting, wrote\n",
      "Topic 15: story, short, part, uprooted, estonia, point, novel, fiction, scene, called\n",
      "Topic 16: blogspot, pioneerproductions, territory, comments, entry, posted, minutes, reflections, interesting, brief\n",
      "Topic 17: duluth, fest, dylan_fest, institute, armory, details, night, tonight, poetry, event\n",
      "Topic 18: review, film, night, movie, powerful, brief, wrote, saw, throwbackthursday, opening\n",
      "Topic 19: good, article, quote, reason, stuff, read, get, quotes, morning, way\n",
      "Topic 20: twin, ports, arts, scene, events, happenings, weekend, happening, lots, month\n",
      "Topic 21: great, man, film, night, album, song, thursdaythoughts, event, songs, fine\n",
      "Topic 22: amp, free, carlton, thots, get, cookin, throwbackthursday, room, jazz, world\n",
      "Topic 23: show, night, opening, work, dai, goin, postal, tonight, artists, gallery\n",
      "Topic 24: life, series, lessons, work, living, thursdaythoughts, gift, difference, dreams, help\n",
      "Topic 25: day, picture, history, newest, paper, know, face, added, live, girl\n",
      "Topic 26: people, interesting, world, get, think, know, lot, talk, really, twitter\n",
      "Topic 27: book, wrote, stories, write, red, asked, teach, written, ideas, best\n",
      "Topic 28: dlh, events, catalyst, oldenburghouse, details, content, photos, visit, coming, dylan_fest\n",
      "Topic 29: time, little, long, song, world, get, full, songs, lost, go\n",
      "Topic 30: tinyurl, 6s84sk, wrote, entry, night, know, ww2, interesting, check, short\n",
      "Topic 31: writing, writers, asked, answer, advice, teach, money, reading, school, replied\n",
      "Topic 32: music, heart, power, bit, quiet, ly, henry, salute, bob, www\n",
      "Topic 33: wednesday, wordless, night, images, red, theme, territory, summer, interesting, friday\n",
      "Topic 34: read, books, reading, interesting, free, something, stories, quotes, history, short\n",
      "Topic 35: see, added, newest, ennyman, get, weekend, tonight, lots, hear, dai\n",
      "Topic 36: local, seen, red, scene, artists, mug, gallery, arts, love, display\n",
      "Topic 37: things, know, write, learned, history, film, doing, list, marketing, way\n",
      "Topic 38: week, coming, events, 10, quotes, details, northland, mondaymotivation, live, schedule\n",
      "Topic 39: thoughts, world, shared, song, response, future, based, really, beatles, take\n",
      "Topic 40: artist, work, part, minutes, interviews, spotlight, interesting, doing, impressive, worth\n"
     ]
    }
   ],
   "source": [
    "for topic_index in range(k):\n",
    "    descriptor = get_descriptor( terms, H, topic_index, 10 )\n",
    "    str_descriptor = \", \".join( descriptor )\n",
    "    print(\"Topic %02d: %s\" % ( topic_index+1, str_descriptor ) )"
   ]
  },
  {
   "cell_type": "code",
   "execution_count": null,
   "metadata": {},
   "outputs": [],
   "source": []
  },
  {
   "cell_type": "code",
   "execution_count": 31,
   "metadata": {},
   "outputs": [],
   "source": [
    "def get_top_snippets( all_snippets, W, topic_index, top ):\n",
    "    # reverse sort the values to sort the indices\n",
    "    top_indices = np.argsort( W[:,topic_index] )[::-1]\n",
    "    # now get the snippets corresponding to the top-ranked indices\n",
    "    top_snippets = []\n",
    "    for doc_index in top_indices[0:top]:\n",
    "        top_snippets.append( all_snippets[doc_index] )\n",
    "    return top_snippets"
   ]
  },
  {
   "cell_type": "code",
   "execution_count": 34,
   "metadata": {},
   "outputs": [
    {
     "name": "stdout",
     "output_type": "stream",
     "text": [
      "01. #art  Cool website to see more art online... http://www.invesp.com/blog-rank/Art   links to countles\n",
      "02. #DuluthArt #DLH @ArtonthePlanet Frustrated because you can't got to art classes? Art on the Planet h\n",
      "03. Just posted an array of new photos I took at Lizzard's #Art Gallery here in #Duluth . Need something\n",
      "04. #art posted now at Many Faces art blog, an invite to Red Interactive, the collaborative art experien\n",
      "05. #art  Do art agents make a difference? Literary agents have a role. Any suggestions/opinions on Art \n",
      "06. #art Does art have to be a visual experience? Blog entry today, Scratch &amp; Sniff: Art That Smells\n",
      "07. #art just posted at my Many Faces art blog, Man in Red, Black and Blue. Ink on paper, art for sale  \n",
      "08. #AmWriting #Art Creativity on display -- Tour the world's great art museums virtually. We're all tem\n",
      "09. #art  just posted, picture of the day at my art blog called Feelin' Groovy. It's a foto of \"found ar\n",
      "10. #art  posted this  a.m. at Many Faces art blog, Bathroom Art.  http://ed-newman.blogspot.com\n",
      "11. #Art #DuluthArt #BobDylan #MondayMotivation #DDF2018 @dylan_fest  Tonight is the Reception for Visio\n",
      "12. #DLH #DuluthArt While gatherings like art openings are being canceled left &amp; right, you can get \n",
      "13. #DuluthArt #DLH Local Art Seen: MN Black Fine Art Show at the Duluth #Art Institute... #TuesdayMorni\n",
      "14. #duluthart Local Art Scene: art classes and ways to improve your art appreciation, plus local events\n",
      "15. #art  just posted my take on this weekend's 41st Annual Park Point Art Fair. Great weather, very spe\n",
      "16. #duluthart   It's here. 2nd Friday Art Crawl weekend. Four openings to see and Bayfront Art in the P\n",
      "17. #art  Today's piece titled Looking for Spring at my Many Faces art blog. It's an abstract in inks.  \n",
      "18. #DRAW365 #art  just posted at my Many Faces art blog, drawing titled Old Chicago  http://bit.ly/hBFd\n",
      "19. Tonight, Getting it on at Goin' Postal... art, music, live painting at the after party... and seven \n",
      "20. #art painting posted at Many Faces art blog, A Military Man   http://bit.ly/a3PBeF\n"
     ]
    }
   ],
   "source": [
    "topic_snippets = get_top_snippets( snippets, W, 0, 20 )\n",
    "for i, snippet in enumerate(topic_snippets):\n",
    "    print(\"%02d. %s\" % ( (i+1), snippet ) )"
   ]
  },
  {
   "cell_type": "code",
   "execution_count": 35,
   "metadata": {},
   "outputs": [
    {
     "name": "stdout",
     "output_type": "stream",
     "text": [
      "01. Just posted at Ennyman's Territory, another Wordless Wednesday. always uniquely ennyman.  http://pio\n",
      "02. #ART Start with Art. Red Interactive open house invitation is posted at Ennyman's Territory. bit.ly/\n",
      "03. Just posted at Ennyman's Territory, thots on The Letter N,   and an invite to my live painting event\n",
      "04. #Oscars  just posted  warm up thots about Oscar Sunday....  at Ennyman's Territory  http://bit.ly/f0\n",
      "05. Just posted at Ennyman's Territory, thots about T Anderson's Den of Lions as it relates to the hiker\n",
      "06. #poetry  Just posted at Ennyman's Territory, a few musings about poetry including The Algebra of Mys\n",
      "07. just posted at Ennyman's Territory  What Will It Look Like Tomorrow? (a few thots about our unwritte\n",
      "08. Just posted, A Postmodern Perspective on Moby Dick by guest blogger RJB at Ennyman's Territory... th\n",
      "09. Just posted at Ennyman's Territory: Shel Silverstein's poem  recorded  by Bobby Bare, The Winner, a \n",
      "10. just posted at Ennyman's Territory, It Was Only Rock N Roll  http://bit.ly/jgii10   A tribute to Car\n",
      "11. #art  More Ghost Galleries popping up around the country. Theme today at Ennyman's Territory. http:/\n",
      "12. just posted... 2011: Can It Really Be? A little digression at Ennyman's Territory about the 1st day \n",
      "13. #art just posted at Ennyman's Territory,  Phantom Galleries Springing Up In Unlikely Places  http://\n",
      "14. Just posted at Ennyman's Territory, Ten Minutes with Sculptor James Day.... good stuff. http://bit.l\n",
      "15. #education  Just posted at Ennyman's Territory, essay on Your Child Left Behind,   http://bit.ly/kCG\n",
      "16. Just posted a status report at Ennyman's Territory on our eBook venture.  http://bit.ly/qzuLGn\n",
      "17. Just posted at Ennyman's Territory, Local Musicians & Artists Featured At Dylan Fest.  http://bit.ly\n",
      "18. Just posted at Ennyman's Territory, Standing Ovation for Bastiens at Guthrie-Dylan Dinner Concert fu\n",
      "19. Just posted at Ennyman's Territory, For Elise or Therese?  Something to think about. http://bit.ly/h\n",
      "20. just posted at Ennyman's Territory: Ken Burns' Baseball and a Memory of the Mick.  http://bit.ly/gSK\n"
     ]
    }
   ],
   "source": [
    "topic_snippets = get_top_snippets( snippets, W, 1, 20 )\n",
    "for i, snippet in enumerate(topic_snippets):\n",
    "    print(\"%02d. %s\" % ( (i+1), snippet ) )"
   ]
  },
  {
   "cell_type": "code",
   "execution_count": null,
   "metadata": {},
   "outputs": [],
   "source": []
  }
 ],
 "metadata": {
  "kernelspec": {
   "display_name": "Python 3",
   "language": "python",
   "name": "python3"
  },
  "language_info": {
   "codemirror_mode": {
    "name": "ipython",
    "version": 3
   },
   "file_extension": ".py",
   "mimetype": "text/x-python",
   "name": "python",
   "nbconvert_exporter": "python",
   "pygments_lexer": "ipython3",
   "version": "3.8.0"
  }
 },
 "nbformat": 4,
 "nbformat_minor": 5
}
