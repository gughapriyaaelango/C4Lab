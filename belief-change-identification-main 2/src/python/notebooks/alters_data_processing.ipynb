{
 "cells": [
  {
   "cell_type": "markdown",
   "metadata": {},
   "source": [
    "## Processing individuals for Yiqi\n",
    "\n",
    "Yiqi has request that we derive:\n",
    "\n",
    "1.  All retweets made by one set of users after 5-01-21 (altersafter05012021)\n",
    "2.  All replies to another set of users after 5-01-21 (egosafter05012021)\n"
   ]
  },
  {
   "cell_type": "code",
   "execution_count": null,
   "metadata": {},
   "outputs": [],
   "source": [
    "\n",
    "\n",
    "# Wrapping the above on a function\n",
    "import math\n",
    "import time\n",
    "\n",
    "def query_user(account,query, user, start_date = None):\n",
    "        done = False\n",
    "        user_tweet_count = 0\n",
    "        error_count = 0\n",
    "        token = None\n",
    "        #This is just to provide some feedback for (roughly) every 10% of a users tweets recovered\n",
    "        counter_increment = 50\n",
    "        \n",
    "        while not done:\n",
    "            error = False\n",
    "            try:\n",
    "                result = client.search_all_tweets(query=query,max_results=500,next_token = token, \n",
    "                    start_time = start_date,\n",
    "                    place_fields=\"full_name,country_code\",\n",
    "                    expansions = \"referenced_tweets.id,in_reply_to_user_id,entities.mentions.username,referenced_tweets.id.author_id\",\n",
    "                    user_fields = \"description\",\n",
    "                    tweet_fields = \"text,created_at,conversation_id,entities,in_reply_to_user_id,public_metrics,referenced_tweets\")\n",
    "            \n",
    "            except Exception as e:\n",
    "                print(f\"Error: {e}\")\n",
    "                error = True\n",
    "            if error or (len(result.errors) > 0 and result.meta['result_count'] == 0):\n",
    "                print(f\"{result.errors[0]} and {len(result)-1} others\")\n",
    "                \n",
    "                #presume rate limit, retry three times with incremental backoff\n",
    "                if error_count ==3:\n",
    "                    print(\"Too many errors, bailing\")\n",
    "                    done = True\n",
    "                    break\n",
    "                error_count+=1\n",
    "                print(f\"Sleep for {(backoff ** error_count)/60} minutes\")\n",
    "                time.sleep(backoff ** error_count)\n",
    "            else:\n",
    "                error_count = 0\n",
    "                token = result.meta.get(\"next_token\")\n",
    "                if not token:\n",
    "                    done = True\n",
    "                data = merge_data(result.data,result.includes)\n",
    "                if not data:\n",
    "                    print(f\"No data for {user} : {result.meta})\")\n",
    "                \n",
    "                write_user_data(account,user,data, done)\n",
    "                old_count = user_tweet_count\n",
    "                user_tweet_count+=result.meta[\"result_count\"]\n",
    "                if math.floor(user_tweet_count/counter_increment) > math.floor(old_count/counter_increment):\n",
    "                    print(\".\",end=\"\")\n",
    "            time.sleep(3)\n",
    "        print()\n",
    "        return result\n",
    "\n",
    "\n"
   ]
  },
  {
   "cell_type": "code",
   "execution_count": null,
   "metadata": {},
   "outputs": [],
   "source": [
    "import datetime\n",
    "alters = pd.read_csv(\"../../../data/alters_for_yiqi.csv\",dtype={0:str})\n",
    "alter_list = alters.all_alters.to_list()\n",
    "dt = datetime.datetime(2021,5,20)\n",
    "for a in alter_list:\n",
    "    q = f\"from:{a} (is:retweet OR is:reply)\"\n",
    "    x = query_user(\"CNN\",q,a,dt)\n",
    "\n"
   ]
  },
  {
   "cell_type": "markdown",
   "metadata": {},
   "source": [
    "8-04-22\n",
    "\n",
    "We stopped with: 330826792_CNN\n"
   ]
  },
  {
   "cell_type": "markdown",
   "metadata": {},
   "source": []
  }
 ],
 "metadata": {
  "language_info": {
   "name": "python"
  },
  "orig_nbformat": 4
 },
 "nbformat": 4,
 "nbformat_minor": 2
}
