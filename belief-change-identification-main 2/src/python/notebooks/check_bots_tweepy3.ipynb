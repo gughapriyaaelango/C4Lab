{
 "cells": [
  {
   "cell_type": "code",
   "execution_count": null,
   "metadata": {},
   "outputs": [],
   "source": [
    "creds = {}\n",
    "with open(\"../../../local-api-key.txt\") as f:\n",
    "    for line in f:\n",
    "        pieces = line.split(\":\")\n",
    "        #print(pieces)\n",
    "        creds[pieces[0].strip()]=pieces[1].strip()\n",
    "creds"
   ]
  },
  {
   "cell_type": "code",
   "execution_count": 3,
   "metadata": {},
   "outputs": [],
   "source": [
    "import botometer\n",
    "twitter_app_auth = {\n",
    "    'consumer_key': creds['API_Key'],\n",
    "    'consumer_secret': creds['API_Secret'],\n",
    "    'access_token': creds['Access_token'],\n",
    "    'access_token_secret': creds['Access_token_secret']\n",
    "  }\n",
    "\n",
    "rapidapi_key = creds[\"Rapid_Api_Key\"]\n",
    "\n",
    "blt_twitter = botometer.BotometerLite(rapidapi_key=rapidapi_key, **twitter_app_auth)"
   ]
  },
  {
   "cell_type": "code",
   "execution_count": 4,
   "metadata": {},
   "outputs": [],
   "source": [
    "import pickle\n",
    "with open(\"/Users/jeintron/Downloads/users_to_query.pickle\",\"rb\") as f:\n",
    "    users = pickle.load(f)"
   ]
  },
  {
   "cell_type": "code",
   "execution_count": 5,
   "metadata": {},
   "outputs": [],
   "source": [
    "blt_scores = blt_twitter.check_accounts_from_user_ids(users[1:3])"
   ]
  },
  {
   "cell_type": "code",
   "execution_count": 6,
   "metadata": {},
   "outputs": [
    {
     "data": {
      "text/plain": [
       "[{'botscore': 0.13, 'tweet_id': None, 'user_id': 25734532},\n",
       " {'botscore': 0.31, 'tweet_id': None, 'user_id': 1601825364}]"
      ]
     },
     "execution_count": 6,
     "metadata": {},
     "output_type": "execute_result"
    }
   ],
   "source": [
    "blt_scores"
   ]
  },
  {
   "cell_type": "code",
   "execution_count": null,
   "metadata": {},
   "outputs": [],
   "source": []
  },
  {
   "cell_type": "code",
   "execution_count": 12,
   "metadata": {},
   "outputs": [],
   "source": [
    "def query_users(user_list,chunk_size=100):\n",
    "    scores = []\n",
    "    while len(user_list) > 0:\n",
    "        error_count = 0\n",
    "        n = min(chunk_size,len(user_list))\n",
    "        next_chunk = user_list[:n]\n",
    "        del user_list[:n]\n",
    "        try:\n",
    "            r = blt_twitter.check_accounts_from_user_ids(next_chunk)\n",
    "        except Exception as e:\n",
    "            print(e)\n",
    "            return scores\n",
    "        scores = scores + r\n",
    "        with open(\"bot_scores.pickle\",\"wb\") as f:\n",
    "            pickle.dump(scores,f)\n",
    "    return scores\n",
    "\n",
    "\n",
    "scores = query_users(users[200:])"
   ]
  },
  {
   "cell_type": "code",
   "execution_count": 13,
   "metadata": {},
   "outputs": [
    {
     "data": {
      "text/plain": [
       "13313"
      ]
     },
     "execution_count": 13,
     "metadata": {},
     "output_type": "execute_result"
    }
   ],
   "source": [
    "len(scores)"
   ]
  },
  {
   "cell_type": "code",
   "execution_count": 11,
   "metadata": {},
   "outputs": [
    {
     "data": {
      "text/plain": [
       "178"
      ]
     },
     "execution_count": 11,
     "metadata": {},
     "output_type": "execute_result"
    }
   ],
   "source": [
    "with open(\"bot_scores.pickle\",\"rb\") as f:\n",
    "    unpickled = pickle.load(f)\n",
    "\n",
    "len(unpickled)"
   ]
  },
  {
   "cell_type": "code",
   "execution_count": 14,
   "metadata": {},
   "outputs": [],
   "source": [
    "# Remember to append unpickled!\n",
    "total = scores+unpickled"
   ]
  },
  {
   "cell_type": "code",
   "execution_count": 15,
   "metadata": {},
   "outputs": [],
   "source": [
    "with open(\"bot_scores_final.pickle\",\"wb\") as f:\n",
    "    pickle.dump(total,f)"
   ]
  },
  {
   "cell_type": "code",
   "execution_count": 16,
   "metadata": {},
   "outputs": [
    {
     "data": {
      "text/plain": [
       "15331"
      ]
     },
     "execution_count": 16,
     "metadata": {},
     "output_type": "execute_result"
    }
   ],
   "source": [
    "len(users)"
   ]
  },
  {
   "cell_type": "code",
   "execution_count": 17,
   "metadata": {},
   "outputs": [],
   "source": [
    "with open(\"bot_scores_final.pickle\",\"rb\") as f:\n",
    "    scores = pickle.load(f)"
   ]
  },
  {
   "cell_type": "code",
   "execution_count": 22,
   "metadata": {},
   "outputs": [
    {
     "data": {
      "text/plain": [
       "13491"
      ]
     },
     "execution_count": 22,
     "metadata": {},
     "output_type": "execute_result"
    }
   ],
   "source": [
    "len(scores)"
   ]
  },
  {
   "cell_type": "code",
   "execution_count": 24,
   "metadata": {},
   "outputs": [
    {
     "data": {
      "text/plain": [
       "(545, 3)"
      ]
     },
     "execution_count": 24,
     "metadata": {},
     "output_type": "execute_result"
    }
   ],
   "source": [
    "import pandas as pd\n",
    "botscores =pd.DataFrame(scores)\n",
    "botscores[botscores.botscore > .5].shape"
   ]
  },
  {
   "cell_type": "code",
   "execution_count": 21,
   "metadata": {},
   "outputs": [
    {
     "name": "stdout",
     "output_type": "stream",
     "text": [
      "Collecting pandas\n",
      "  Downloading pandas-1.4.4.tar.gz (4.9 MB)\n",
      "\u001b[K     |████████████████████████████████| 4.9 MB 184 kB/s eta 0:00:01\n",
      "\u001b[?25h  Installing build dependencies ... \u001b[?25ldone\n",
      "\u001b[?25h  Getting requirements to build wheel ... \u001b[?25ldone\n",
      "\u001b[?25h    Preparing wheel metadata ... \u001b[?25ldone\n",
      "\u001b[?25hCollecting numpy>=1.18.5; platform_machine != \"aarch64\" and platform_machine != \"arm64\" and python_version < \"3.10\"\n",
      "  Downloading numpy-1.23.2.tar.gz (10.7 MB)\n",
      "\u001b[K     |████████████████████████████████| 10.7 MB 11.5 MB/s eta 0:00:01\n",
      "\u001b[?25h  Installing build dependencies ... \u001b[?25ldone\n",
      "\u001b[?25h  Getting requirements to build wheel ... \u001b[?25ldone\n",
      "\u001b[?25h    Preparing wheel metadata ... \u001b[?25ldone\n",
      "\u001b[?25hCollecting pytz>=2020.1\n",
      "  Downloading pytz-2022.2.1-py2.py3-none-any.whl (500 kB)\n",
      "\u001b[K     |████████████████████████████████| 500 kB 15.3 MB/s eta 0:00:01\n",
      "\u001b[?25hRequirement already satisfied: python-dateutil>=2.8.1 in /Users/jeintron/Dropbox/@PROJECTS/BLF/INDIVIDUAL/belief-change-identification/botometer_venv/lib/python3.9/site-packages (from pandas) (2.8.2)\n",
      "Requirement already satisfied: six>=1.5 in /Users/jeintron/Dropbox/@PROJECTS/BLF/INDIVIDUAL/belief-change-identification/botometer_venv/lib/python3.9/site-packages (from python-dateutil>=2.8.1->pandas) (1.16.0)\n",
      "Building wheels for collected packages: pandas, numpy\n",
      "  Building wheel for pandas (PEP 517) ... \u001b[?25ldone\n",
      "\u001b[?25h  Created wheel for pandas: filename=pandas-1.4.4-cp39-cp39-macosx_11_0_x86_64.whl size=11574813 sha256=5fdc58f05d4776e8c08a87d3cb58726db26ac9f95dc198ca3b80b5e235e30550\n",
      "  Stored in directory: /Users/jeintron/Library/Caches/pip/wheels/44/e7/b0/34a54fd7e3ca84756ae9d651a22400ac2849cdb37646afd7ca\n",
      "  Building wheel for numpy (PEP 517) ... \u001b[?25ldone\n",
      "\u001b[?25h  Created wheel for numpy: filename=numpy-1.23.2-cp39-cp39-macosx_11_0_x86_64.whl size=6160725 sha256=abedc8201d7def953584d5f7e279f7d77afc2a563e319e760090f31bbe613838\n",
      "  Stored in directory: /Users/jeintron/Library/Caches/pip/wheels/2b/2b/6a/0a048ee0bf7af151b98cba9fd0e32dab6593aa4e311803cee8\n",
      "Successfully built pandas numpy\n",
      "Installing collected packages: numpy, pytz, pandas\n",
      "Successfully installed numpy-1.23.2 pandas-1.4.4 pytz-2022.2.1\n",
      "\u001b[33mWARNING: You are using pip version 20.2.3; however, version 22.2.2 is available.\n",
      "You should consider upgrading via the '/Users/jeintron/Dropbox/@PROJECTS/BLF/INDIVIDUAL/belief-change-identification/botometer_venv/bin/python3 -m pip install --upgrade pip' command.\u001b[0m\n"
     ]
    }
   ],
   "source": [
    "!pip install pandas"
   ]
  },
  {
   "cell_type": "code",
   "execution_count": null,
   "metadata": {},
   "outputs": [],
   "source": []
  }
 ],
 "metadata": {
  "kernelspec": {
   "display_name": "Python 3.9.1 ('botometer_venv': venv)",
   "language": "python",
   "name": "python3"
  },
  "language_info": {
   "codemirror_mode": {
    "name": "ipython",
    "version": 3
   },
   "file_extension": ".py",
   "mimetype": "text/x-python",
   "name": "python",
   "nbconvert_exporter": "python",
   "pygments_lexer": "ipython3",
   "version": "3.9.1"
  },
  "orig_nbformat": 4,
  "vscode": {
   "interpreter": {
    "hash": "38dd286a4efe85d1d191305c87a6f0961883e297468a55a92b011cabad143a76"
   }
  }
 },
 "nbformat": 4,
 "nbformat_minor": 2
}
