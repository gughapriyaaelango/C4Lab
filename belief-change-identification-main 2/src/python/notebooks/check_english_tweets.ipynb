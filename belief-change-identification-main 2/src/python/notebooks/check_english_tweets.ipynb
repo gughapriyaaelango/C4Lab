{
 "cells": [
  {
   "cell_type": "markdown",
   "metadata": {},
   "source": [
    "##  Checking english tweets\n",
    "\n",
    "Some of this code calls functions from the \"process_gdrive_files\" notebooks. I've extracted the code here though so that it is more salient"
   ]
  },
  {
   "cell_type": "code",
   "execution_count": null,
   "metadata": {},
   "outputs": [],
   "source": [
    "import fasttext\n",
    "model = fasttext.load_model(\"../../../data/lid.176.bin\")\n",
    "\n",
    "def detect_en(x):\n",
    "    try:\n",
    "        return model.predict(x)[0][0]==\"__label__en\"\n",
    "    except:\n",
    "        return False"
   ]
  },
  {
   "cell_type": "code",
   "execution_count": 2,
   "metadata": {},
   "outputs": [],
   "source": [
    "\n",
    "# Sample 100 lines from each csv in a folder and come up with a score\n",
    "# reflecting the likelihood this is an english speaking account\n",
    "def process(folder,sample_size=100):\n",
    "    fileslist:list = get_files(folder)\n",
    "    print(f\"Retrieved {len(fileslist)} files\")\n",
    "    results = {}\n",
    "    for f in fileslist:\n",
    "        result = []\n",
    "        if not re.match(\"[^.]+\\.csv\",f['title']):\n",
    "            print(f\"Skipping {f['title']}\")\n",
    "            continue\n",
    "        f.GetContentFile(f['title'])\n",
    "        data = pd.read_csv(f['title'],nrows = sample_size)\n",
    "        if (\"text\" not in data.columns):\n",
    "            print(f\"{f['title']} is missing data\")\n",
    "            results[f['title']] = 0\n",
    "        else:\n",
    "            x = data.text.tolist()\n",
    "            for line in x:\n",
    "                line = re.sub(\"\\n+\",\" \",line)\n",
    "                result.append(detect_en(line))\n",
    "            \n",
    "            results[f['title']] = sum(result)/100\n",
    "        os.remove(f['title'])\n",
    "    return results"
   ]
  },
  {
   "cell_type": "code",
   "execution_count": null,
   "metadata": {},
   "outputs": [],
   "source": [
    "\n"
   ]
  }
 ],
 "metadata": {
  "kernelspec": {
   "display_name": "Python 3.9.1 ('botometer_venv': venv)",
   "language": "python",
   "name": "python3"
  },
  "language_info": {
   "codemirror_mode": {
    "name": "ipython",
    "version": 3
   },
   "file_extension": ".py",
   "mimetype": "text/x-python",
   "name": "python",
   "nbconvert_exporter": "python",
   "pygments_lexer": "ipython3",
   "version": "3.9.1"
  },
  "orig_nbformat": 4,
  "vscode": {
   "interpreter": {
    "hash": "38dd286a4efe85d1d191305c87a6f0961883e297468a55a92b011cabad143a76"
   }
  }
 },
 "nbformat": 4,
 "nbformat_minor": 2
}
