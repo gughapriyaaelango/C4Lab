{
 "cells": [
  {
   "cell_type": "code",
   "execution_count": 1,
   "id": "5aeaea00",
   "metadata": {},
   "outputs": [],
   "source": [
    "import tweepy\n",
    "# For sending GET requests from the API\n",
    "import requests\n",
    "# For saving access tokens and for file management when creating and adding to the dataset\n",
    "import os\n",
    "# For dealing with json responses received from the API\n",
    "import json\n",
    "# For displaying and managing the data\n",
    "import pandas as pd\n",
    "# For saving the data into a CSV format\n",
    "import csv\n",
    "# For parsing the dates received from Twitter into readable formats\n",
    "import datetime as dt\n",
    "import dateutil.parser\n",
    "import unicodedata\n",
    "# To add wait time between requests\n",
    "import time"
   ]
  },
  {
   "cell_type": "markdown",
   "id": "06cade59",
   "metadata": {},
   "source": [
    "## My Authentication"
   ]
  },
  {
   "cell_type": "code",
   "execution_count": 2,
   "id": "eda1d70a",
   "metadata": {},
   "outputs": [],
   "source": [
    "my_creds = {}\n",
    "with open(\"Exploration.txt\") as file:\n",
    "    for line in file:\n",
    "        pieces = line.split(\":\")\n",
    "        # print(pieces)\n",
    "        my_creds[pieces[0].strip()] = pieces[1].strip()"
   ]
  },
  {
   "cell_type": "code",
   "execution_count": null,
   "id": "13582310",
   "metadata": {},
   "outputs": [],
   "source": [
    "my_creds"
   ]
  },
  {
   "cell_type": "code",
   "execution_count": 4,
   "id": "5c169de9",
   "metadata": {},
   "outputs": [],
   "source": [
    "# Authentication method for the v2 Twitter API\n",
    "my_client = tweepy.Client(my_creds[\"Bearer_Token\"])"
   ]
  },
  {
   "cell_type": "code",
   "execution_count": 5,
   "id": "33769354",
   "metadata": {},
   "outputs": [
    {
     "name": "stdout",
     "output_type": "stream",
     "text": [
      "6Rhk1YEBmcvjJMsHOA4JbfD8u\n"
     ]
    },
    {
     "data": {
      "text/plain": [
       "'2HWrFuWs7CqSYDiVRR7N6K32u0Gl0IE4rU52lkS5l1lrOwzrDb'"
      ]
     },
     "execution_count": 5,
     "metadata": {},
     "output_type": "execute_result"
    }
   ],
   "source": [
    "print(my_creds[\"API_Key\"])\n",
    "my_creds[\"API_Key_Secret\"]"
   ]
  },
  {
   "cell_type": "code",
   "execution_count": 6,
   "id": "3a8864fc",
   "metadata": {},
   "outputs": [],
   "source": [
    "# Authentication via API key and API key secret\n",
    "auth = tweepy.OAuthHandler(my_creds[\"API_Key\"], \n",
    "                           my_creds[\"API_Key_Secret\"])"
   ]
  },
  {
   "cell_type": "code",
   "execution_count": 7,
   "id": "34b0f351",
   "metadata": {},
   "outputs": [],
   "source": [
    "auth.set_access_token(my_creds[\"Access_Token\"], \n",
    "                      my_creds[\"Access_Token_Secret\"])"
   ]
  },
  {
   "cell_type": "code",
   "execution_count": 8,
   "id": "cac6ad39",
   "metadata": {},
   "outputs": [],
   "source": [
    "my_api = tweepy.API(auth)"
   ]
  },
  {
   "cell_type": "markdown",
   "id": "32163518",
   "metadata": {},
   "source": [
    "## C4 Authentication"
   ]
  },
  {
   "cell_type": "code",
   "execution_count": 9,
   "id": "09afac2e",
   "metadata": {},
   "outputs": [],
   "source": [
    "c4_creds = {}\n",
    "with open(\"local-api-key.txt\") as file:\n",
    "    for line in file:\n",
    "        pieces = line.split(\":\")\n",
    "        # print(pieces)\n",
    "        c4_creds[pieces[0].strip()] = pieces[1].strip()"
   ]
  },
  {
   "cell_type": "code",
   "execution_count": null,
   "id": "d7e02a01",
   "metadata": {},
   "outputs": [],
   "source": [
    "c4_creds"
   ]
  },
  {
   "cell_type": "code",
   "execution_count": 11,
   "id": "fc8a5e12",
   "metadata": {},
   "outputs": [],
   "source": [
    "# Authentication method for the v2 Twitter API\n",
    "c4_client = tweepy.Client(c4_creds[\"Bearer\"])"
   ]
  },
  {
   "cell_type": "markdown",
   "id": "296294f5",
   "metadata": {},
   "source": [
    "## Testing `search_all_tweets()`"
   ]
  },
  {
   "cell_type": "code",
   "execution_count": 12,
   "id": "98d1c0d7",
   "metadata": {},
   "outputs": [],
   "source": [
    "handle_ids = {# \"crooksandliars\":14513611, \n",
    "              \"CNN\":759251} #, \n",
    "              # \"NPR\":5392522, \n",
    "              # \"reason\":16467567, \n",
    "              # \"OANN\":1209936918}"
   ]
  },
  {
   "cell_type": "code",
   "execution_count": 13,
   "id": "5819e23b",
   "metadata": {},
   "outputs": [
    {
     "data": {
      "text/plain": [
       "dict_items([('CNN', 759251)])"
      ]
     },
     "execution_count": 13,
     "metadata": {},
     "output_type": "execute_result"
    }
   ],
   "source": [
    "handle_ids.items()"
   ]
  },
  {
   "cell_type": "code",
   "execution_count": 14,
   "id": "c05ff8bf",
   "metadata": {},
   "outputs": [
    {
     "name": "stdout",
     "output_type": "stream",
     "text": [
      "CNN\n",
      "759251\n"
     ]
    }
   ],
   "source": [
    "for account, id in handle_ids.items():\n",
    "    print(account)\n",
    "    print(id)"
   ]
  },
  {
   "cell_type": "code",
   "execution_count": 15,
   "id": "159c9890",
   "metadata": {},
   "outputs": [
    {
     "data": {
      "text/plain": [
       "int"
      ]
     },
     "execution_count": 15,
     "metadata": {},
     "output_type": "execute_result"
    }
   ],
   "source": [
    "# I can use `.get()` to return the value associated with a given key\n",
    "type(handle_ids.get(\"CNN\"))"
   ]
  },
  {
   "cell_type": "code",
   "execution_count": 16,
   "id": "1ea547f6",
   "metadata": {},
   "outputs": [
    {
     "data": {
      "text/plain": [
       "Response(data=<User id=112426341 name=Jimmy_hammer username=vets_v>, includes={}, errors=[], meta={})"
      ]
     },
     "execution_count": 16,
     "metadata": {},
     "output_type": "execute_result"
    }
   ],
   "source": [
    "c4_client.get_user(username = \"vets_v\")"
   ]
  },
  {
   "cell_type": "code",
   "execution_count": 17,
   "id": "bf80a784",
   "metadata": {},
   "outputs": [
    {
     "data": {
      "text/plain": [
       "Response(data=<User id=112426341 name=Jimmy_hammer username=vets_v>, includes={}, errors=[], meta={})"
      ]
     },
     "execution_count": 17,
     "metadata": {},
     "output_type": "execute_result"
    }
   ],
   "source": [
    "my_client.get_user(username = \"vets_v\")"
   ]
  },
  {
   "cell_type": "code",
   "execution_count": null,
   "id": "8420ccc8",
   "metadata": {},
   "outputs": [],
   "source": [
    "test_query = 'from:vets_v'\n",
    "start = dt.datetime.fromisoformat(\"2006-03-21 00:00:00\")"
   ]
  },
  {
   "cell_type": "markdown",
   "id": "d7e9ea80",
   "metadata": {},
   "source": [
    "## Current Attempts"
   ]
  },
  {
   "cell_type": "code",
   "execution_count": 18,
   "id": "5ec4ff46",
   "metadata": {},
   "outputs": [
    {
     "data": {
      "text/plain": [
       "{'CNN': 759251}"
      ]
     },
     "execution_count": 18,
     "metadata": {},
     "output_type": "execute_result"
    }
   ],
   "source": [
    "# check what's inside of the handle_ids dictionary\n",
    "# do this EVERY TIME before running the following cells\n",
    "handle_ids"
   ]
  },
  {
   "cell_type": "code",
   "execution_count": 19,
   "id": "391bc1a5",
   "metadata": {},
   "outputs": [],
   "source": [
    "# extract the candidate users as a list of dictionaries\n",
    "# and label that list of dictionaries \n",
    "for account, id in handle_ids.items():\n",
    "    done = False\n",
    "    users_file = f\"./{account}.csv\"\n",
    "    with open(users_file, encoding = \"utf-8\") as candidates_file:\n",
    "        reader = csv.DictReader(candidates_file)\n",
    "        users = [u for u in reader]"
   ]
  },
  {
   "cell_type": "code",
   "execution_count": 22,
   "id": "0c36625a",
   "metadata": {},
   "outputs": [
    {
     "data": {
      "text/plain": [
       "[{'id': '190612142',\n",
       "  'tweet_count': '16231',\n",
       "  'created_at': '09/14/2010 11:57',\n",
       "  'name': 'Abdullah Alkadi',\n",
       "  'username': 'a__alkadi',\n",
       "  'location': 'تميم هامة مُضر '},\n",
       " {'id': '112426341',\n",
       "  'tweet_count': '5020',\n",
       "  'created_at': '02/08/2010 13:13',\n",
       "  'name': 'Jimmy_hammer',\n",
       "  'username': 'vets_v',\n",
       "  'location': 'United States of America'},\n",
       " {'id': '115079948',\n",
       "  'tweet_count': '4162',\n",
       "  'created_at': '02/17/2010 15:04',\n",
       "  'name': 'Monsieur Sánchez',\n",
       "  'username': 'raz_sanchez',\n",
       "  'location': ''},\n",
       " {'id': '115879528',\n",
       "  'tweet_count': '3267',\n",
       "  'created_at': '02/20/2010 08:32',\n",
       "  'name': 'Priyansh Narang',\n",
       "  'username': 'dapperprogramer',\n",
       "  'location': ''}]"
      ]
     },
     "execution_count": 22,
     "metadata": {},
     "output_type": "execute_result"
    }
   ],
   "source": [
    "users[1:5]"
   ]
  },
  {
   "cell_type": "markdown",
   "id": "8e43c277",
   "metadata": {},
   "source": [
    "## User ID Extraction"
   ]
  },
  {
   "cell_type": "code",
   "execution_count": 20,
   "id": "1bdc0cae",
   "metadata": {},
   "outputs": [
    {
     "data": {
      "text/plain": [
       "'153487532'"
      ]
     },
     "execution_count": 20,
     "metadata": {},
     "output_type": "execute_result"
    }
   ],
   "source": [
    "users[0][\"id\"]"
   ]
  },
  {
   "cell_type": "code",
   "execution_count": null,
   "id": "d78cf54d",
   "metadata": {},
   "outputs": [],
   "source": [
    "# extract just the user ids from users and save user ids as a list\n",
    "user_ids = []\n",
    "# note that for CNN I am skipping the user at index 0 \n",
    "# because they are not a valid candidate user\n",
    "for i in range(1, len(users)):\n",
    "    user_ids.append(users[i][\"id\"])"
   ]
  },
  {
   "cell_type": "code",
   "execution_count": null,
   "id": "621ab7a2",
   "metadata": {},
   "outputs": [],
   "source": [
    "user_ids"
   ]
  },
  {
   "cell_type": "markdown",
   "id": "c97175d6",
   "metadata": {},
   "source": [
    "## Username Extraction"
   ]
  },
  {
   "cell_type": "code",
   "execution_count": null,
   "id": "830e99af",
   "metadata": {},
   "outputs": [],
   "source": [
    "# extract just the usernames from users and save usernames as a list\n",
    "usernames = []\n",
    "# note that for CNN I am skipping the user at index 0 \n",
    "# because they are not a valid candidate user\n",
    "for i in range(1, len(users)):\n",
    "    usernames.append(users[i][\"username\"])"
   ]
  },
  {
   "cell_type": "code",
   "execution_count": null,
   "id": "c23b7215",
   "metadata": {},
   "outputs": [],
   "source": [
    "usernames"
   ]
  },
  {
   "cell_type": "markdown",
   "id": "2c3c747b",
   "metadata": {},
   "source": [
    "## User ID and Username Extraction"
   ]
  },
  {
   "cell_type": "code",
   "execution_count": 38,
   "id": "e5302600",
   "metadata": {},
   "outputs": [],
   "source": [
    "# define empty dictionary for key-value pairs\n",
    "user_identifiers = {}\n",
    "# extract pair of username and user id\n",
    "for i in range(1, len(users)):\n",
    "    user_identifiers[users[i][\"username\"]] = users[i][\"id\"]"
   ]
  },
  {
   "cell_type": "code",
   "execution_count": null,
   "id": "a0dfb7c4",
   "metadata": {},
   "outputs": [],
   "source": [
    "# check items inside of user_identifiers\n",
    "# user_identifiers.items()"
   ]
  },
  {
   "cell_type": "code",
   "execution_count": 37,
   "id": "7cdf0201",
   "metadata": {},
   "outputs": [
    {
     "data": {
      "text/plain": [
       "['a__alkadi', 'vets_v', 'raz_sanchez', 'dapperprogramer']"
      ]
     },
     "execution_count": 37,
     "metadata": {},
     "output_type": "execute_result"
    }
   ],
   "source": [
    "list(user_identifiers.keys())"
   ]
  },
  {
   "cell_type": "code",
   "execution_count": 40,
   "id": "4059167d",
   "metadata": {},
   "outputs": [],
   "source": [
    "usernames = list(user_identifiers.keys())"
   ]
  },
  {
   "cell_type": "code",
   "execution_count": 41,
   "id": "a59b7df3",
   "metadata": {},
   "outputs": [
    {
     "name": "stdout",
     "output_type": "stream",
     "text": [
      "a__alkadi\n",
      "vets_v\n",
      "raz_sanchez\n",
      "dapperprogramer\n",
      "Pussayy_Loverr\n"
     ]
    }
   ],
   "source": [
    "for i in range(5):\n",
    "    print(usernames[i])"
   ]
  },
  {
   "cell_type": "code",
   "execution_count": 43,
   "id": "a703a251",
   "metadata": {},
   "outputs": [
    {
     "data": {
      "text/plain": [
       "'vets_v'"
      ]
     },
     "execution_count": 43,
     "metadata": {},
     "output_type": "execute_result"
    }
   ],
   "source": [
    "usernames[1]"
   ]
  },
  {
   "cell_type": "code",
   "execution_count": 44,
   "id": "fec168ef",
   "metadata": {},
   "outputs": [
    {
     "data": {
      "text/plain": [
       "'112426341'"
      ]
     },
     "execution_count": 44,
     "metadata": {},
     "output_type": "execute_result"
    }
   ],
   "source": [
    "user_identifiers[\"vets_v\"]"
   ]
  },
  {
   "cell_type": "code",
   "execution_count": 42,
   "id": "9dfd0fc5",
   "metadata": {},
   "outputs": [
    {
     "data": {
      "text/plain": [
       "'112426341'"
      ]
     },
     "execution_count": 42,
     "metadata": {},
     "output_type": "execute_result"
    }
   ],
   "source": [
    "user_identifiers[usernames[1]]"
   ]
  },
  {
   "cell_type": "markdown",
   "id": "ff933fad",
   "metadata": {},
   "source": [
    "## Data Sampling and Language Testing Loop\n",
    "\n",
    "This section should have everything that is actually needed for validating that a potential candidate user is English speaking. "
   ]
  },
  {
   "cell_type": "code",
   "execution_count": null,
   "id": "0854bd29",
   "metadata": {},
   "outputs": [],
   "source": [
    "temp_list = [user_ids[2]]\n",
    "temp_list"
   ]
  },
  {
   "cell_type": "code",
   "execution_count": null,
   "id": "2de9ab6a",
   "metadata": {},
   "outputs": [],
   "source": [
    "type(temp_list)"
   ]
  },
  {
   "cell_type": "code",
   "execution_count": 57,
   "id": "77ee6c69",
   "metadata": {},
   "outputs": [
    {
     "name": "stdout",
     "output_type": "stream",
     "text": [
      "Iteration started. Currently on user 0 of 100.\n",
      "./190612142_CNN.csv was created.\n",
      "Sleep finished. New iteration starting. Currently on user 0 of 100.\n",
      "Iteration started. Currently on user 1 of 100.\n",
      "./112426341_CNN.csv was created.\n",
      "Sleep finished. New iteration starting. Currently on user 1 of 100.\n",
      "Iteration started. Currently on user 2 of 100.\n",
      "./115079948_CNN.csv was created.\n",
      "Sleep finished. New iteration starting. Currently on user 2 of 100.\n",
      "Iteration started. Currently on user 3 of 100.\n",
      "./115879528_CNN.csv was created.\n",
      "Sleep finished. New iteration starting. Currently on user 3 of 100.\n",
      "Iteration started. Currently on user 4 of 100.\n",
      "./61071795_CNN.csv was created.\n",
      "Sleep finished. New iteration starting. Currently on user 4 of 100.\n",
      "Iteration started. Currently on user 5 of 100.\n",
      "./128626589_CNN.csv was created.\n",
      "Sleep finished. New iteration starting. Currently on user 5 of 100.\n",
      "Iteration started. Currently on user 6 of 100.\n",
      "./197482877_CNN.csv was created.\n",
      "Sleep finished. New iteration starting. Currently on user 6 of 100.\n",
      "Iteration started. Currently on user 7 of 100.\n",
      "./133274637_CNN.csv was created.\n",
      "Sleep finished. New iteration starting. Currently on user 7 of 100.\n",
      "Iteration started. Currently on user 8 of 100.\n",
      "./267812873_CNN.csv was created.\n",
      "Sleep finished. New iteration starting. Currently on user 8 of 100.\n",
      "Iteration started. Currently on user 9 of 100.\n",
      "./30986696_CNN.csv was created.\n",
      "Sleep finished. New iteration starting. Currently on user 9 of 100.\n",
      "Iteration started. Currently on user 10 of 100.\n",
      "./400405648_CNN.csv was created.\n",
      "Sleep finished. New iteration starting. Currently on user 10 of 100.\n",
      "Iteration started. Currently on user 11 of 100.\n",
      "./366818949_CNN.csv was created.\n",
      "Sleep finished. New iteration starting. Currently on user 11 of 100.\n",
      "Iteration started. Currently on user 12 of 100.\n",
      "./22857582_CNN.csv was created.\n",
      "Sleep finished. New iteration starting. Currently on user 12 of 100.\n",
      "Iteration started. Currently on user 13 of 100.\n",
      "./283060119_CNN.csv was created.\n",
      "Sleep finished. New iteration starting. Currently on user 13 of 100.\n",
      "Iteration started. Currently on user 14 of 100.\n",
      "./348136052_CNN.csv was created.\n",
      "Sleep finished. New iteration starting. Currently on user 14 of 100.\n",
      "Iteration started. Currently on user 15 of 100.\n",
      "./67224352_CNN.csv was created.\n",
      "Sleep finished. New iteration starting. Currently on user 15 of 100.\n",
      "Iteration started. Currently on user 16 of 100.\n",
      "./179466197_CNN.csv was created.\n",
      "Sleep finished. New iteration starting. Currently on user 16 of 100.\n",
      "Iteration started. Currently on user 17 of 100.\n",
      "./24482818_CNN.csv was created.\n",
      "Sleep finished. New iteration starting. Currently on user 17 of 100.\n",
      "Iteration started. Currently on user 18 of 100.\n",
      "./105870729_CNN.csv was created.\n",
      "Sleep finished. New iteration starting. Currently on user 18 of 100.\n",
      "Iteration started. Currently on user 19 of 100.\n",
      "./191485839_CNN.csv was created.\n",
      "Sleep finished. New iteration starting. Currently on user 19 of 100.\n",
      "Iteration started. Currently on user 20 of 100.\n",
      "./110671382_CNN.csv was created.\n",
      "Sleep finished. New iteration starting. Currently on user 20 of 100.\n",
      "Iteration started. Currently on user 21 of 100.\n",
      "./303278822_CNN.csv was created.\n",
      "Sleep finished. New iteration starting. Currently on user 21 of 100.\n",
      "Iteration started. Currently on user 22 of 100.\n",
      "./100298351_CNN.csv was created.\n",
      "Sleep finished. New iteration starting. Currently on user 22 of 100.\n",
      "Iteration started. Currently on user 23 of 100.\n",
      "./27123196_CNN.csv was created.\n",
      "Sleep finished. New iteration starting. Currently on user 23 of 100.\n",
      "Iteration started. Currently on user 24 of 100.\n",
      "./83497600_CNN.csv was created.\n",
      "Sleep finished. New iteration starting. Currently on user 24 of 100.\n",
      "Iteration started. Currently on user 25 of 100.\n",
      "./60971473_CNN.csv was created.\n",
      "Sleep finished. New iteration starting. Currently on user 25 of 100.\n",
      "Iteration started. Currently on user 26 of 100.\n",
      "./18867000_CNN.csv was created.\n",
      "Sleep finished. New iteration starting. Currently on user 26 of 100.\n",
      "Iteration started. Currently on user 27 of 100.\n",
      "./58693598_CNN.csv was created.\n",
      "Sleep finished. New iteration starting. Currently on user 27 of 100.\n",
      "Iteration started. Currently on user 28 of 100.\n",
      "./232431851_CNN.csv was created.\n",
      "Sleep finished. New iteration starting. Currently on user 28 of 100.\n",
      "Iteration started. Currently on user 29 of 100.\n",
      "./14832149_CNN.csv was created.\n",
      "Sleep finished. New iteration starting. Currently on user 29 of 100.\n",
      "Iteration started. Currently on user 30 of 100.\n",
      "./251939927_CNN.csv was created.\n",
      "Sleep finished. New iteration starting. Currently on user 30 of 100.\n",
      "Iteration started. Currently on user 31 of 100.\n",
      "./364797418_CNN.csv was created.\n",
      "Sleep finished. New iteration starting. Currently on user 31 of 100.\n",
      "Iteration started. Currently on user 32 of 100.\n",
      "./345672870_CNN.csv was created.\n",
      "Sleep finished. New iteration starting. Currently on user 32 of 100.\n",
      "Iteration started. Currently on user 33 of 100.\n",
      "./387306921_CNN.csv was created.\n",
      "Sleep finished. New iteration starting. Currently on user 33 of 100.\n",
      "Iteration started. Currently on user 34 of 100.\n",
      "./39704879_CNN.csv was created.\n",
      "Sleep finished. New iteration starting. Currently on user 34 of 100.\n",
      "Iteration started. Currently on user 35 of 100.\n",
      "./299798731_CNN.csv was created.\n",
      "Sleep finished. New iteration starting. Currently on user 35 of 100.\n",
      "Iteration started. Currently on user 36 of 100.\n",
      "./52891397_CNN.csv was created.\n",
      "Sleep finished. New iteration starting. Currently on user 36 of 100.\n",
      "Iteration started. Currently on user 37 of 100.\n",
      "./142476163_CNN.csv was created.\n",
      "Sleep finished. New iteration starting. Currently on user 37 of 100.\n",
      "Iteration started. Currently on user 38 of 100.\n",
      "./142085555_CNN.csv was created.\n",
      "Sleep finished. New iteration starting. Currently on user 38 of 100.\n",
      "Iteration started. Currently on user 39 of 100.\n",
      "./76276847_CNN.csv was created.\n",
      "Sleep finished. New iteration starting. Currently on user 39 of 100.\n",
      "Iteration started. Currently on user 40 of 100.\n",
      "./89042860_CNN.csv was created.\n",
      "Sleep finished. New iteration starting. Currently on user 40 of 100.\n",
      "Iteration started. Currently on user 41 of 100.\n",
      "./250068453_CNN.csv was created.\n",
      "Sleep finished. New iteration starting. Currently on user 41 of 100.\n",
      "Iteration started. Currently on user 42 of 100.\n",
      "./46134007_CNN.csv was created.\n",
      "Sleep finished. New iteration starting. Currently on user 42 of 100.\n",
      "Iteration started. Currently on user 43 of 100.\n",
      "./188521142_CNN.csv was created.\n",
      "Sleep finished. New iteration starting. Currently on user 43 of 100.\n",
      "Iteration started. Currently on user 44 of 100.\n",
      "./105839443_CNN.csv was created.\n",
      "Sleep finished. New iteration starting. Currently on user 44 of 100.\n",
      "Iteration started. Currently on user 45 of 100.\n",
      "./44860107_CNN.csv was created.\n",
      "Sleep finished. New iteration starting. Currently on user 45 of 100.\n",
      "Iteration started. Currently on user 46 of 100.\n",
      "./66892843_CNN.csv was created.\n",
      "Sleep finished. New iteration starting. Currently on user 46 of 100.\n",
      "Iteration started. Currently on user 47 of 100.\n",
      "./442287546_CNN.csv was created.\n",
      "Sleep finished. New iteration starting. Currently on user 47 of 100.\n",
      "Iteration started. Currently on user 48 of 100.\n",
      "./211919452_CNN.csv was created.\n",
      "Sleep finished. New iteration starting. Currently on user 48 of 100.\n",
      "Iteration started. Currently on user 49 of 100.\n",
      "./99385184_CNN.csv was created.\n",
      "Sleep finished. New iteration starting. Currently on user 49 of 100.\n",
      "Iteration started. Currently on user 50 of 100.\n",
      "./33775502_CNN.csv was created.\n",
      "Sleep finished. New iteration starting. Currently on user 50 of 100.\n",
      "Iteration started. Currently on user 51 of 100.\n",
      "./93483294_CNN.csv was created.\n",
      "Sleep finished. New iteration starting. Currently on user 51 of 100.\n",
      "Iteration started. Currently on user 52 of 100.\n",
      "./90103263_CNN.csv was created.\n",
      "Sleep finished. New iteration starting. Currently on user 52 of 100.\n",
      "Iteration started. Currently on user 53 of 100.\n",
      "Error: 401 Unauthorized\n",
      "Not authorized.\n",
      "Sleep for 0.25 minutes.\n",
      "Sleep finished. New iteration starting. Currently on user 53 of 100.\n",
      "Error: 401 Unauthorized\n",
      "Not authorized.\n",
      "Sleep for 3.75 minutes.\n",
      "Sleep finished. New iteration starting. Currently on user 53 of 100.\n"
     ]
    },
    {
     "name": "stdout",
     "output_type": "stream",
     "text": [
      "Error: 401 Unauthorized\n",
      "Not authorized.\n",
      "Sleep for 56.25 minutes.\n",
      "Sleep finished. New iteration starting. Currently on user 53 of 100.\n",
      "Error: 401 Unauthorized\n",
      "Not authorized.\n",
      "There are too many errors. Bailing.\n",
      "Iteration started. Currently on user 54 of 100.\n",
      "./134117934_CNN.csv was created.\n",
      "Sleep finished. New iteration starting. Currently on user 54 of 100.\n",
      "Iteration started. Currently on user 55 of 100.\n",
      "./378727617_CNN.csv was created.\n",
      "Sleep finished. New iteration starting. Currently on user 55 of 100.\n",
      "Iteration started. Currently on user 56 of 100.\n",
      "./34282785_CNN.csv was created.\n",
      "Sleep finished. New iteration starting. Currently on user 56 of 100.\n",
      "Iteration started. Currently on user 57 of 100.\n",
      "./17903266_CNN.csv was created.\n",
      "Sleep finished. New iteration starting. Currently on user 57 of 100.\n",
      "Iteration started. Currently on user 58 of 100.\n",
      "./453081155_CNN.csv was created.\n",
      "Sleep finished. New iteration starting. Currently on user 58 of 100.\n",
      "Iteration started. Currently on user 59 of 100.\n",
      "./257771801_CNN.csv was created.\n",
      "Sleep finished. New iteration starting. Currently on user 59 of 100.\n",
      "Iteration started. Currently on user 60 of 100.\n",
      "./29227997_CNN.csv was created.\n",
      "Sleep finished. New iteration starting. Currently on user 60 of 100.\n",
      "Iteration started. Currently on user 61 of 100.\n",
      "./80384229_CNN.csv was created.\n",
      "Sleep finished. New iteration starting. Currently on user 61 of 100.\n",
      "Iteration started. Currently on user 62 of 100.\n",
      "./23924655_CNN.csv was created.\n",
      "Sleep finished. New iteration starting. Currently on user 62 of 100.\n",
      "Iteration started. Currently on user 63 of 100.\n",
      "./147131934_CNN.csv was created.\n",
      "Sleep finished. New iteration starting. Currently on user 63 of 100.\n",
      "Iteration started. Currently on user 64 of 100.\n",
      "./131094796_CNN.csv was created.\n",
      "Sleep finished. New iteration starting. Currently on user 64 of 100.\n",
      "Iteration started. Currently on user 65 of 100.\n",
      "./213292072_CNN.csv was created.\n",
      "Sleep finished. New iteration starting. Currently on user 65 of 100.\n",
      "Iteration started. Currently on user 66 of 100.\n",
      "Error: 401 Unauthorized\n",
      "Not authorized.\n",
      "Sleep for 0.25 minutes.\n",
      "Sleep finished. New iteration starting. Currently on user 66 of 100.\n",
      "Error: 401 Unauthorized\n",
      "Not authorized.\n",
      "Sleep for 3.75 minutes.\n",
      "Sleep finished. New iteration starting. Currently on user 66 of 100.\n",
      "Error: 401 Unauthorized\n",
      "Not authorized.\n",
      "Sleep for 56.25 minutes.\n",
      "Sleep finished. New iteration starting. Currently on user 66 of 100.\n",
      "Error: 401 Unauthorized\n",
      "Not authorized.\n",
      "There are too many errors. Bailing.\n",
      "Iteration started. Currently on user 67 of 100.\n",
      "./66450596_CNN.csv was created.\n",
      "Sleep finished. New iteration starting. Currently on user 67 of 100.\n",
      "Iteration started. Currently on user 68 of 100.\n",
      "./259451960_CNN.csv was created.\n",
      "Sleep finished. New iteration starting. Currently on user 68 of 100.\n",
      "Iteration started. Currently on user 69 of 100.\n",
      "./50033793_CNN.csv was created.\n",
      "Sleep finished. New iteration starting. Currently on user 69 of 100.\n",
      "Iteration started. Currently on user 70 of 100.\n",
      "./343509861_CNN.csv was created.\n",
      "Sleep finished. New iteration starting. Currently on user 70 of 100.\n",
      "Iteration started. Currently on user 71 of 100.\n",
      "./101931530_CNN.csv was created.\n",
      "Sleep finished. New iteration starting. Currently on user 71 of 100.\n",
      "Iteration started. Currently on user 72 of 100.\n",
      "./122601124_CNN.csv was created.\n",
      "Sleep finished. New iteration starting. Currently on user 72 of 100.\n",
      "Iteration started. Currently on user 73 of 100.\n",
      "./263818311_CNN.csv was created.\n",
      "Sleep finished. New iteration starting. Currently on user 73 of 100.\n",
      "Iteration started. Currently on user 74 of 100.\n",
      "./214132028_CNN.csv was created.\n",
      "Sleep finished. New iteration starting. Currently on user 74 of 100.\n",
      "Iteration started. Currently on user 75 of 100.\n",
      "./15800494_CNN.csv was created.\n",
      "Sleep finished. New iteration starting. Currently on user 75 of 100.\n",
      "Iteration started. Currently on user 76 of 100.\n",
      "./5559992_CNN.csv was created.\n",
      "Sleep finished. New iteration starting. Currently on user 76 of 100.\n",
      "Iteration started. Currently on user 77 of 100.\n",
      "./261026446_CNN.csv was created.\n",
      "Sleep finished. New iteration starting. Currently on user 77 of 100.\n",
      "Iteration started. Currently on user 78 of 100.\n",
      "./185832392_CNN.csv was created.\n",
      "Sleep finished. New iteration starting. Currently on user 78 of 100.\n",
      "Iteration started. Currently on user 79 of 100.\n",
      "./378328716_CNN.csv was created.\n",
      "Sleep finished. New iteration starting. Currently on user 79 of 100.\n",
      "Iteration started. Currently on user 80 of 100.\n",
      "./386213080_CNN.csv was created.\n",
      "Sleep finished. New iteration starting. Currently on user 80 of 100.\n",
      "Iteration started. Currently on user 81 of 100.\n",
      "./339672122_CNN.csv was created.\n",
      "Sleep finished. New iteration starting. Currently on user 81 of 100.\n",
      "Iteration started. Currently on user 82 of 100.\n",
      "./29107945_CNN.csv was created.\n",
      "Sleep finished. New iteration starting. Currently on user 82 of 100.\n",
      "Iteration started. Currently on user 83 of 100.\n",
      "./40003120_CNN.csv was created.\n",
      "Sleep finished. New iteration starting. Currently on user 83 of 100.\n",
      "Iteration started. Currently on user 84 of 100.\n",
      "./442792186_CNN.csv was created.\n",
      "Sleep finished. New iteration starting. Currently on user 84 of 100.\n",
      "Iteration started. Currently on user 85 of 100.\n",
      "./332954575_CNN.csv was created.\n",
      "Sleep finished. New iteration starting. Currently on user 85 of 100.\n",
      "Iteration started. Currently on user 86 of 100.\n",
      "./408569953_CNN.csv was created.\n",
      "Sleep finished. New iteration starting. Currently on user 86 of 100.\n",
      "Iteration started. Currently on user 87 of 100.\n",
      "./390057914_CNN.csv was created.\n",
      "Sleep finished. New iteration starting. Currently on user 87 of 100.\n",
      "Iteration started. Currently on user 88 of 100.\n",
      "./73533252_CNN.csv was created.\n",
      "Sleep finished. New iteration starting. Currently on user 88 of 100.\n",
      "Iteration started. Currently on user 89 of 100.\n",
      "./122822977_CNN.csv was created.\n",
      "Sleep finished. New iteration starting. Currently on user 89 of 100.\n",
      "Iteration started. Currently on user 90 of 100.\n",
      "./101237324_CNN.csv was created.\n",
      "Sleep finished. New iteration starting. Currently on user 90 of 100.\n",
      "Iteration started. Currently on user 91 of 100.\n",
      "./363543200_CNN.csv was created.\n",
      "Sleep finished. New iteration starting. Currently on user 91 of 100.\n",
      "Iteration started. Currently on user 92 of 100.\n",
      "./15029612_CNN.csv was created.\n",
      "Sleep finished. New iteration starting. Currently on user 92 of 100.\n",
      "Iteration started. Currently on user 93 of 100.\n",
      "./272030646_CNN.csv was created.\n",
      "Sleep finished. New iteration starting. Currently on user 93 of 100.\n",
      "Iteration started. Currently on user 94 of 100.\n",
      "./197978347_CNN.csv was created.\n",
      "Sleep finished. New iteration starting. Currently on user 94 of 100.\n",
      "Iteration started. Currently on user 95 of 100.\n",
      "./408333287_CNN.csv was created.\n",
      "Sleep finished. New iteration starting. Currently on user 95 of 100.\n",
      "Iteration started. Currently on user 96 of 100.\n",
      "./359466272_CNN.csv was created.\n",
      "Sleep finished. New iteration starting. Currently on user 96 of 100.\n",
      "Iteration started. Currently on user 97 of 100.\n",
      "./64476993_CNN.csv was created.\n",
      "Sleep finished. New iteration starting. Currently on user 97 of 100.\n",
      "Iteration started. Currently on user 98 of 100.\n",
      "./21123443_CNN.csv was created.\n",
      "Sleep finished. New iteration starting. Currently on user 98 of 100.\n",
      "Iteration started. Currently on user 99 of 100.\n",
      "./184156327_CNN.csv was created.\n",
      "Sleep finished. New iteration starting. Currently on user 99 of 100.\n",
      "Iteration started. Currently on user 100 of 100.\n",
      "./38179205_CNN.csv was created.\n",
      "Sleep finished. New iteration starting. Currently on user 100 of 100.\n",
      "Iteration started. Currently on user 101 of 100.\n",
      "./41903893_CNN.csv was created.\n",
      "Sleep finished. New iteration starting. Currently on user 101 of 100.\n",
      "Iteration started. Currently on user 102 of 100.\n",
      "./34531845_CNN.csv was created.\n",
      "Sleep finished. New iteration starting. Currently on user 102 of 100.\n",
      "Iteration started. Currently on user 103 of 100.\n",
      "./35585469_CNN.csv was created.\n",
      "Sleep finished. New iteration starting. Currently on user 103 of 100.\n",
      "Iteration started. Currently on user 104 of 100.\n",
      "./164038033_CNN.csv was created.\n",
      "Sleep finished. New iteration starting. Currently on user 104 of 100.\n",
      "Iteration started. Currently on user 105 of 100.\n"
     ]
    },
    {
     "name": "stdout",
     "output_type": "stream",
     "text": [
      "./262884497_CNN.csv was created.\n",
      "Sleep finished. New iteration starting. Currently on user 105 of 100.\n",
      "Iteration started. Currently on user 106 of 100.\n",
      "./42341049_CNN.csv was created.\n"
     ]
    },
    {
     "ename": "KeyboardInterrupt",
     "evalue": "",
     "output_type": "error",
     "traceback": [
      "\u001b[1;31m---------------------------------------------------------------------------\u001b[0m",
      "\u001b[1;31mKeyboardInterrupt\u001b[0m                         Traceback (most recent call last)",
      "Input \u001b[1;32mIn [57]\u001b[0m, in \u001b[0;36m<cell line: 9>\u001b[1;34m()\u001b[0m\n\u001b[0;32m     44\u001b[0m     \u001b[38;5;28mprint\u001b[39m(\u001b[38;5;124mf\u001b[39m\u001b[38;5;124m\"\u001b[39m\u001b[38;5;124m./\u001b[39m\u001b[38;5;132;01m{\u001b[39;00muser_identifiers[usernames[ui]]\u001b[38;5;132;01m}\u001b[39;00m\u001b[38;5;124m_CNN.csv was created.\u001b[39m\u001b[38;5;124m\"\u001b[39m)\n\u001b[0;32m     45\u001b[0m     done \u001b[38;5;241m=\u001b[39m \u001b[38;5;28;01mTrue\u001b[39;00m\n\u001b[1;32m---> 46\u001b[0m \u001b[43mtime\u001b[49m\u001b[38;5;241;43m.\u001b[39;49m\u001b[43msleep\u001b[49m\u001b[43m(\u001b[49m\u001b[38;5;241;43m5\u001b[39;49m\u001b[43m)\u001b[49m\n\u001b[0;32m     47\u001b[0m \u001b[38;5;28mprint\u001b[39m(\u001b[38;5;124m\"\u001b[39m\u001b[38;5;124mSleep finished. New iteration starting. Currently on user \u001b[39m\u001b[38;5;124m\"\u001b[39m \u001b[38;5;241m+\u001b[39m \u001b[38;5;28mstr\u001b[39m(ui) \u001b[38;5;241m+\u001b[39m \u001b[38;5;124m\"\u001b[39m\u001b[38;5;124m of 100.\u001b[39m\u001b[38;5;124m\"\u001b[39m)\n",
      "\u001b[1;31mKeyboardInterrupt\u001b[0m: "
     ]
    }
   ],
   "source": [
    "import math \n",
    "\n",
    "backoff = 15\n",
    "\n",
    "usernames = list(user_identifiers.keys())\n",
    "\n",
    "starting_index = \n",
    "ending_index = \n",
    "\n",
    "# loop through and sample 100 tweets per candidate user\n",
    "# create a dictionary to store the language testing results in\n",
    "for ui in range(len(user_identifiers)):\n",
    "    data = []\n",
    "    done = False\n",
    "    error_count = 0\n",
    "    print(\"Iteration started. Currently on user \" + str(ui) + \" of \" + str(len(user_identifiers)) + \".\")\n",
    "    while not done:\n",
    "        error = False\n",
    "        try:\n",
    "            sample_response = my_api.user_timeline(screen_name = usernames[ui], \n",
    "                                                   count = 100, \n",
    "                                                   tweet_mode = \"extended\")\n",
    "        except Exception as e:\n",
    "            print(f\"Error: {e}\")\n",
    "            error = True\n",
    "        if error: # or (len(sample_response.errors) > 0 and sample_response.meta[\"result_count\"] == 0):\n",
    "            # print(f\"{sample_response.errors[0]} and {len(sample_response)-1} others\")\n",
    "            # presume rate limit\n",
    "            # retry three times with incremental backoff\n",
    "            if error_count == 3: \n",
    "                print(\"There are too many errors. Bailing.\")\n",
    "                done = True\n",
    "                break\n",
    "            error_count += 1\n",
    "            print(f\"Sleep for {(backoff ** error_count)/60} minutes.\")\n",
    "            time.sleep(backoff ** error_count)\n",
    "        else:\n",
    "            error_count = 0\n",
    "            # save the tweets from the API response to a list\n",
    "            for tweet in sample_response:\n",
    "                data.append([tweet.user.screen_name, tweet.full_text])\n",
    "            # create a dataframe containing the sample tweets\n",
    "            candidate_df = pd.DataFrame(data, columns = [\"User\", \"Tweet\"])\n",
    "            # write the dataframe to a csv file where the name of the file is the username \n",
    "            # of the candidate user \n",
    "            candidate_df.to_csv(f\"./{user_identifiers[usernames[ui]]}_CNN.csv\", encoding = \"utf-8\", index = False)\n",
    "            print(f\"./{user_identifiers[usernames[ui]]}_CNN.csv was created.\")\n",
    "            done = True\n",
    "        time.sleep(5)\n",
    "        print(\"Sleep finished. New iteration starting. Currently on user \" + str(ui) + \" of \" + str(len(user_identifiers)) + \".\")"
   ]
  },
  {
   "cell_type": "markdown",
   "id": "5aa302fe",
   "metadata": {},
   "source": [
    "CANDIDATE USER 215459654 WAS SKIPPED WHEN THE HOUR LONG SLEEP FINALLY FINISHED AND THE LOOP BAILED BECAUSE OF TOO MANY ERRORS.\n",
    "\n",
    "USER 253780844 IS THE NEXT USER THAT NEEDS TO BE SAMPLED IN THE CNN CANDIDATE USERS FILE. "
   ]
  },
  {
   "cell_type": "code",
   "execution_count": null,
   "id": "4537edb7",
   "metadata": {},
   "outputs": [],
   "source": [
    "# this is the chunk for reading in a given users sample tweets and testing for English\n",
    "results = {}\n",
    "candidate_csv = pd.read_csv(f\"./{user_identifiers[usernames[1]]}.csv\", encoding = \"utf-8\")\n",
    "result = []\n",
    "tweet_list = candidate_csv.Tweet.tolist()\n",
    "for tweet in tweet_list:\n",
    "    tweet = re.sub(\"\\n+\", \" \", tweet)\n",
    "    result.append(detect_en(tweet))\n",
    "results[username] = sum(result)/100"
   ]
  },
  {
   "cell_type": "code",
   "execution_count": null,
   "id": "77a74c3f",
   "metadata": {},
   "outputs": [],
   "source": [
    "results"
   ]
  },
  {
   "cell_type": "code",
   "execution_count": null,
   "id": "e98b944b",
   "metadata": {},
   "outputs": [],
   "source": [
    "# import libraries for English language testing\n",
    "import sys\n",
    "import numpy as np\n",
    "import scipy\n",
    "import re\n",
    "import pybind11\n",
    "import fasttext"
   ]
  },
  {
   "cell_type": "code",
   "execution_count": null,
   "id": "d34be698",
   "metadata": {},
   "outputs": [],
   "source": [
    "# import model for English language testing\n",
    "model = fasttext.load_model(\"lid.176.bin\")"
   ]
  },
  {
   "cell_type": "code",
   "execution_count": null,
   "id": "33f85ef4",
   "metadata": {},
   "outputs": [],
   "source": [
    "# define a function to run the language testing model \n",
    "def detect_en(x):\n",
    "    try:\n",
    "        return model.predict(x)[0][0] == \"__label__en\"\n",
    "    except:\n",
    "        return False"
   ]
  },
  {
   "cell_type": "code",
   "execution_count": null,
   "id": "0915d857",
   "metadata": {},
   "outputs": [],
   "source": [
    "results = {}\n",
    "result = []\n",
    "test_user = pd.read_csv(\"vets_v.csv\")"
   ]
  },
  {
   "cell_type": "code",
   "execution_count": null,
   "id": "7300d61e",
   "metadata": {},
   "outputs": [],
   "source": [
    "tweet_list = test_user.Tweet.tolist()\n",
    "for tweet in tweet_list:\n",
    "    tweet = re.sub(\"\\n+\", \" \", tweet)\n",
    "    result.append(detect_en(tweet))\n",
    "results[\"vets_v\"] = sum(result)/100"
   ]
  },
  {
   "cell_type": "code",
   "execution_count": null,
   "id": "de39f781",
   "metadata": {},
   "outputs": [],
   "source": [
    "results"
   ]
  },
  {
   "cell_type": "markdown",
   "id": "13821d38",
   "metadata": {},
   "source": [
    "## Step-by-Step Sample 100 Tweets\n",
    "\n",
    "This section is just for reference. Small-scale, non-automated approach to pulling 100 tweets for a specific user."
   ]
  },
  {
   "cell_type": "code",
   "execution_count": 52,
   "id": "46a411de",
   "metadata": {},
   "outputs": [],
   "source": [
    "tweets = my_api.user_timeline(screen_name = \"vets_v\", \n",
    "                          count = 100, \n",
    "                          tweet_mode = \"extended\")"
   ]
  },
  {
   "cell_type": "code",
   "execution_count": 54,
   "id": "74a55a39",
   "metadata": {},
   "outputs": [
    {
     "data": {
      "text/plain": [
       "tweepy.models.ResultSet"
      ]
     },
     "execution_count": 54,
     "metadata": {},
     "output_type": "execute_result"
    }
   ],
   "source": [
    "type(tweets)"
   ]
  },
  {
   "cell_type": "code",
   "execution_count": null,
   "id": "ec398013",
   "metadata": {},
   "outputs": [],
   "source": [
    "for tweet in tweets:\n",
    "    print(tweet.full_text)"
   ]
  },
  {
   "cell_type": "code",
   "execution_count": null,
   "id": "cec9e291",
   "metadata": {},
   "outputs": [],
   "source": [
    "# create a dataframe to store the tweets in\n",
    "columns = [\"User\", \"Tweet\"]\n",
    "data = []\n",
    "for tweet in tweets:\n",
    "    data.append([tweet.user.screen_name, tweet.full_text])\n",
    "    \n",
    "df = pd.DataFrame(data, columns = columns)"
   ]
  },
  {
   "cell_type": "code",
   "execution_count": null,
   "id": "09787b88",
   "metadata": {},
   "outputs": [],
   "source": [
    "print(df)"
   ]
  }
 ],
 "metadata": {
  "kernelspec": {
   "display_name": "Python 3 (ipykernel)",
   "language": "python",
   "name": "python3"
  },
  "language_info": {
   "codemirror_mode": {
    "name": "ipython",
    "version": 3
   },
   "file_extension": ".py",
   "mimetype": "text/x-python",
   "name": "python",
   "nbconvert_exporter": "python",
   "pygments_lexer": "ipython3",
   "version": "3.9.12"
  }
 },
 "nbformat": 4,
 "nbformat_minor": 5
}
